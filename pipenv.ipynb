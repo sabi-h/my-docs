{
 "cells": [
  {
   "cell_type": "markdown",
   "metadata": {},
   "source": [
    "## Pipenv \n",
    "21 Apr 2021\n",
    "\n",
    "#### Learning Resources:\n",
    "- [Youtube video by Corey Schafer](https://www.youtube.com/watch?v=zDYL22QNiWk&ab_channel=CoreySchafer)\n",
    "- [Article by RealPython](https://realpython.com/pipenv-guide/#pipenv-introduction)"
   ]
  },
  {
   "cell_type": "markdown",
   "metadata": {},
   "source": [
    "### Usage\n",
    "1. Go to your project root: `cd pipenv-tests`\n",
    "2. Install a library: `pipenv install pandas`\n",
    "3. Activate your enviornment: `pipenv shell`\n",
    "4. Deactivate your environment: `exit`\n",
    "5. Run python commands without activating enviornment: `pipenv run python`\n",
    "\n",
    "### Install libraries using requirements.txt file\n",
    "`pipenv install -r /path/to/requirements.txt`\n",
    "\n",
    "\n",
    "### Install libraries for dev\n",
    "`pipenv install pytest --dev`\n",
    "\n",
    "\n",
    "### Uninstall libraries for dev\n",
    "`pipenv uninstall pandas`\n",
    "\n",
    "\n",
    "### Remove pipenv environement\n",
    "`pipenv --rm`\n",
    "\n",
    "\n",
    "### Recreate pipenv environement\n",
    "- `pipenv --rm`\n",
    "- `pipenv install`\n",
    "\n",
    "\n",
    "### Output dependencies to requirments.txt\n",
    "`pipenv lock -r`\n",
    "\n",
    "\n",
    "\n",
    "#### Explaination\n",
    "\n",
    "2. When you install a package for the first time\n",
    "    - Creates a new virtual enviornment for the project, if you arn't already in a virtual enviornment.\n",
    "    - Creates Pipfile and Pipfile.lock\n",
    "\n",
    "#### Pipfile and Pipfile.lock best practices:\n",
    "- Don't have to specify library version\n",
    "- Once a new library version is realeased, you install it and test\n",
    "- Once tested and it works, you update the Pipfile.lock and push to production\n",
    "\n"
   ]
  },
  {
   "cell_type": "code",
   "execution_count": null,
   "metadata": {},
   "outputs": [],
   "source": []
  }
 ],
 "metadata": {
  "kernelspec": {
   "display_name": "Python 3",
   "language": "python",
   "name": "python3"
  },
  "language_info": {
   "codemirror_mode": {
    "name": "ipython",
    "version": 3
   },
   "file_extension": ".py",
   "mimetype": "text/x-python",
   "name": "python",
   "nbconvert_exporter": "python",
   "pygments_lexer": "ipython3",
   "version": "3.7.6"
  }
 },
 "nbformat": 4,
 "nbformat_minor": 4
}
